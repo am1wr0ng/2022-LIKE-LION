{
  "cells": [
    {
      "cell_type": "code",
      "execution_count": 30,
      "metadata": {
        "colab": {
          "base_uri": "https://localhost:8080/"
        },
        "id": "0Wug9AbiPPOq",
        "outputId": "fae2c199-b209-4729-f4a7-16a6ab7591ad"
      },
      "outputs": [
        {
          "output_type": "stream",
          "name": "stdout",
          "text": [
            "Requirement already satisfied: googletrans==4.0.0-rc1 in /usr/local/lib/python3.7/dist-packages (4.0.0rc1)\n",
            "Requirement already satisfied: httpx==0.13.3 in /usr/local/lib/python3.7/dist-packages (from googletrans==4.0.0-rc1) (0.13.3)\n",
            "Requirement already satisfied: sniffio in /usr/local/lib/python3.7/dist-packages (from httpx==0.13.3->googletrans==4.0.0-rc1) (1.2.0)\n",
            "Requirement already satisfied: httpcore==0.9.* in /usr/local/lib/python3.7/dist-packages (from httpx==0.13.3->googletrans==4.0.0-rc1) (0.9.1)\n",
            "Requirement already satisfied: idna==2.* in /usr/local/lib/python3.7/dist-packages (from httpx==0.13.3->googletrans==4.0.0-rc1) (2.10)\n",
            "Requirement already satisfied: certifi in /usr/local/lib/python3.7/dist-packages (from httpx==0.13.3->googletrans==4.0.0-rc1) (2021.10.8)\n",
            "Requirement already satisfied: chardet==3.* in /usr/local/lib/python3.7/dist-packages (from httpx==0.13.3->googletrans==4.0.0-rc1) (3.0.4)\n",
            "Requirement already satisfied: hstspreload in /usr/local/lib/python3.7/dist-packages (from httpx==0.13.3->googletrans==4.0.0-rc1) (2021.12.1)\n",
            "Requirement already satisfied: rfc3986<2,>=1.3 in /usr/local/lib/python3.7/dist-packages (from httpx==0.13.3->googletrans==4.0.0-rc1) (1.5.0)\n",
            "Requirement already satisfied: h11<0.10,>=0.8 in /usr/local/lib/python3.7/dist-packages (from httpcore==0.9.*->httpx==0.13.3->googletrans==4.0.0-rc1) (0.9.0)\n",
            "Requirement already satisfied: h2==3.* in /usr/local/lib/python3.7/dist-packages (from httpcore==0.9.*->httpx==0.13.3->googletrans==4.0.0-rc1) (3.2.0)\n",
            "Requirement already satisfied: hyperframe<6,>=5.2.0 in /usr/local/lib/python3.7/dist-packages (from h2==3.*->httpcore==0.9.*->httpx==0.13.3->googletrans==4.0.0-rc1) (5.2.0)\n",
            "Requirement already satisfied: hpack<4,>=3.0 in /usr/local/lib/python3.7/dist-packages (from h2==3.*->httpcore==0.9.*->httpx==0.13.3->googletrans==4.0.0-rc1) (3.0.0)\n"
          ]
        }
      ],
      "source": [
        "pip install googletrans==4.0.0-rc1"
      ]
    },
    {
      "cell_type": "code",
      "execution_count": 31,
      "metadata": {
        "id": "Cw_1UIJZOzJ3"
      },
      "outputs": [],
      "source": [
        "import imaplib\n",
        "import email\n",
        "from email.header import decode_header, make_header\n",
        "from googletrans import Translator"
      ]
    },
    {
      "cell_type": "code",
      "execution_count": 32,
      "metadata": {
        "colab": {
          "base_uri": "https://localhost:8080/"
        },
        "id": "YLQ3hDDIO51O",
        "outputId": "abf9e7f5-6ece-4148-e0f3-4ce3067dc59e"
      },
      "outputs": [
        {
          "output_type": "execute_result",
          "data": {
            "text/plain": [
              "('OK', [b'hhj04021@likelion.org authenticated (Success)'])"
            ]
          },
          "metadata": {},
          "execution_count": 32
        }
      ],
      "source": [
        "######################IMAP을 통해 최근 메일을 읽는 프로그램(참고용)##########################\n",
        "\n",
        "\n",
        "server = imaplib.IMAP4_SSL('imap.gmail.com') #IMAP4 서버에 암호화하여 접근 / IMAP4는 메일 서버에 저장되어있는 메일에 접근하기 위한 방법\n",
        "server.login('hhj04021@likelion.org', '39064638') #내 계정 정보로 로그인하기 / 여기서 오류 발생 시 운영진에게 문의..."
      ]
    },
    {
      "cell_type": "code",
      "execution_count": 33,
      "metadata": {
        "colab": {
          "base_uri": "https://localhost:8080/"
        },
        "id": "oGpSzi4-P6c6",
        "outputId": "c0387978-14f9-4e2b-f4fb-23d78a5985e5"
      },
      "outputs": [
        {
          "output_type": "stream",
          "name": "stdout",
          "text": [
            "OK\n",
            "[b'1']\n"
          ]
        }
      ],
      "source": [
        "rv, data = server.select() \n",
        "#select함수 = 메일 서버에 저장된 모든 메일 건수를 알려준다. \n",
        "#실행결과는 실행 성공 여부 & 메일 건수 두 정보 출력\n",
        "#rv, data변수에 나눠담기, rv 출력 시 ok 출력, data 출력 시 메일 건수 출력, 우리는 메일 건수만 필요하니까 data만 사용할 것\n",
        "\n",
        "\n",
        "print(rv)\n",
        "print(data)\n"
      ]
    },
    {
      "cell_type": "code",
      "execution_count": 34,
      "metadata": {
        "id": "SF7RDweRQa_O"
      },
      "outputs": [],
      "source": [
        "recent_no = data[0] \n",
        "#가장 최근의 메시지 번호/최근의 메세지 번호는 메일의 건수와 동일하다.\n",
        "\n",
        "rv, fetched = server.fetch(recent_no, '(RFC822)') \n",
        "#fetch함수에 두 가지 인자를 전달, 최근 메세지 번호와\n",
        "#RFC822는 표준 메세지 형식 (중요X)\n",
        "#fetch 실행결과는 아까처럼 두 가지 변수에 나누어 담았다.\n",
        "#마찬가지로 rv는 fetch함수가 잘 실행되었다는 정보인 ok가 담김\n",
        "#가져온 <최근 메일>의 모든 정보는 fetched 변수에 담김\n",
        "\n",
        "\n",
        "message = email.message_from_bytes(fetched[0][1]) \n",
        "#메세지 내용에 해당하는 부분을 파싱하는 단계\n",
        "#여기서 우리가 필요한 메일 내용은 fetched의 첫 번째 요소의 두 번째 요소라서 [0][1]로 표현함\n",
        "#print(fetched[0][1])해보면 엄청 길고 못 알아보는 인자가 출력되는데 이 부분이 우리가 가져와야 할 메일 내용이라는 것만 이해해주시면 됩니다.\n",
        "#email.message_from_bytes는 우리가 알아볼 수 있는 형태로 바꿔주는 함수\n",
        "#변환한 내용을 message객체에 담았고 이제 이 객체를 이용해 이메일의 제목, 보낸이, 내용 등을 가져올 수 있게 됨.\n",
        "\n",
        "\n",
        "fr = make_header(decode_header(message.get('From')))\n",
        "subject = make_header(decode_header(message.get('Subject')))\n",
        "#보낸이와 제목은 이메일의 헤더 항목입니다.\n",
        "#따라서, 이를 정확한 값으로 가져오기 위해 decode_header, make_header함수를 이용했습니다.\n"
      ]
    },
    {
      "cell_type": "code",
      "source": [
        "'''메세지 본문 내용을 구하는 과정입니다. ('''\n",
        "if message.is_multipart():\n",
        "    for part in message.walk():\n",
        "        ctype = part.get_content_type()\n",
        "        cdispo = str(part.get('Content-Disposition'))\n",
        "        if ctype == 'text/plain' and 'attachment' not in cdispo:\n",
        "            body = part.get_payload(decode=True)\n",
        "            break\n",
        "else:\n",
        "    body = message.get_payload(decode=True)\n",
        "\n",
        "body = body.decode('utf-8')\n",
        "\n",
        "\n",
        "\n",
        "print(f\"보낸사람:{fr}\")\n",
        "print(f\"제목:{subject}\")\n"
      ],
      "metadata": {
        "colab": {
          "base_uri": "https://localhost:8080/"
        },
        "id": "7vdTu7riRPsN",
        "outputId": "550294e5-0522-4a71-a833-5bdb4f454b20"
      },
      "execution_count": 35,
      "outputs": [
        {
          "output_type": "stream",
          "name": "stdout",
          "text": [
            "보낸사람:20200221@likelion.org\n",
            "제목:아기사자님. 번역 부탁드립니다!\n"
          ]
        }
      ]
    },
    {
      "cell_type": "code",
      "execution_count": 36,
      "metadata": {
        "id": "iamhO_XNP_zt",
        "colab": {
          "base_uri": "https://localhost:8080/"
        },
        "outputId": "5513e83c-22aa-4700-e97a-02951a355224"
      },
      "outputs": [
        {
          "output_type": "stream",
          "name": "stdout",
          "text": [
            "안녕하세요. 제가 작성한 내용을 영어, 일본어, 중국어, 스페인어, 프랑스어로 번역 부탁드립니다.\n",
            "\n"
          ]
        }
      ],
      "source": [
        "####################################5개 국어 번역기 프로그램##################################################\n",
        "\n",
        "#1. 번역할 내용은 body변수에 담겨있습니다. 이를 f-string을 이용해 outsourcing에 담아주세요.\n",
        "outsourcing = f'{body}'\n",
        "\n",
        "#2. 번역할 내용을 출력해봅시다.\n",
        "print(outsourcing)"
      ]
    },
    {
      "cell_type": "code",
      "source": [
        "#3. 번역기를 만들어주세요.\n",
        "translator = Translator()\n",
        "\n",
        "#4. 5개 국어의 언어 코드를 리스트에 담아주세요.\n",
        "langlist = ['en','ja','zh-cn','es','fr']\n",
        "\n",
        "\n",
        "#5. 5개 국어 각각에 대한 결과를 아래와 같이 출력하세요.\n",
        "for dest in langlist:\n",
        "  result = translator.translate(outsourcing, dest)\n",
        "  detected = translator.detect(outsourcing)\n",
        "  print(\"===========출 력 결 과===========\")\n",
        "  print(detected.lang,\":\",outsourcing)\n",
        "  print(result.dest,\":\",result.text)\n",
        "  print(\"=================================\")"
      ],
      "metadata": {
        "colab": {
          "base_uri": "https://localhost:8080/"
        },
        "id": "c8vQcVnYS63g",
        "outputId": "e6bc639e-7e8b-4ab3-b4b4-b3d90cf74755"
      },
      "execution_count": 37,
      "outputs": [
        {
          "output_type": "stream",
          "name": "stdout",
          "text": [
            "===========출 력 결 과===========\n",
            "ko : 안녕하세요. 제가 작성한 내용을 영어, 일본어, 중국어, 스페인어, 프랑스어로 번역 부탁드립니다.\n",
            "\n",
            "en : hello.Please translate what I wrote in English, Japanese, Chinese, Spanish, and French.\n",
            "=================================\n",
            "===========출 력 결 과===========\n",
            "ko : 안녕하세요. 제가 작성한 내용을 영어, 일본어, 중국어, 스페인어, 프랑스어로 번역 부탁드립니다.\n",
            "\n",
            "ja : こんにちは。英語、日本、中国語、スペイン語、フランス語で書いたものを翻訳してください。\n",
            "=================================\n",
            "===========출 력 결 과===========\n",
            "ko : 안녕하세요. 제가 작성한 내용을 영어, 일본어, 중국어, 스페인어, 프랑스어로 번역 부탁드립니다.\n",
            "\n",
            "zh-cn : 你好。请翻译我用英语，日语，中文，西班牙语和法语撰写的内容。\n",
            "=================================\n",
            "===========출 력 결 과===========\n",
            "ko : 안녕하세요. 제가 작성한 내용을 영어, 일본어, 중국어, 스페인어, 프랑스어로 번역 부탁드립니다.\n",
            "\n",
            "es : Hola.Traduzca lo que escribí en inglés, japonés, chino, español y francés.\n",
            "=================================\n",
            "===========출 력 결 과===========\n",
            "ko : 안녕하세요. 제가 작성한 내용을 영어, 일본어, 중국어, 스페인어, 프랑스어로 번역 부탁드립니다.\n",
            "\n",
            "fr : salut.Veuillez traduire ce que j'ai écrit en anglais, japonais, chinois, espagnol et français.\n",
            "=================================\n"
          ]
        }
      ]
    },
    {
      "cell_type": "code",
      "source": [
        "\n",
        "'''\n",
        "===========출 력 결 과===========\n",
        "ko : 안녕하세요. 제 이름은 하연진입니다. 여기에 입력하는 내용들을 영어, 일본어, 중국어, 스페인어, 프랑스어로 번역 부탁드려요.\n",
        "\n",
        "en : hello.My name is Ha Yeonjin.Please translate the contents you enter here in English, Japanese, Chinese, Spanish, and French.\n",
        "=================================\n",
        "'''"
      ],
      "metadata": {
        "colab": {
          "base_uri": "https://localhost:8080/",
          "height": 54
        },
        "id": "MlDTg9bmU65x",
        "outputId": "d47ca2e4-5fda-46bd-b28d-21c3fa71c1ef"
      },
      "execution_count": 38,
      "outputs": [
        {
          "output_type": "execute_result",
          "data": {
            "text/plain": [
              "'\\n===========출 력 결 과===========\\nko : 안녕하세요. 제 이름은 하연진입니다. 여기에 입력하는 내용들을 영어, 일본어, 중국어, 스페인어, 프랑스어로 번역 부탁드려요.\\n\\nen : hello.My name is Ha Yeonjin.Please translate the contents you enter here in English, Japanese, Chinese, Spanish, and French.\\n=================================\\n'"
            ],
            "application/vnd.google.colaboratory.intrinsic+json": {
              "type": "string"
            }
          },
          "metadata": {},
          "execution_count": 38
        }
      ]
    },
    {
      "cell_type": "code",
      "source": [
        "#6. \"번역한 언어 : 번역한 결과\" 형태로 5개 국어로 번역한 결과를 trans 변수에 담아주세요. (딕셔너리, 반복문 사용)\n",
        "resultdict={}\n",
        "for dest in langlist:\n",
        "  result = translator.translate(outsourcing,dest)\n",
        "  resultdict[result.dest]=result.text\n",
        "print(resultdict)\n",
        "\n",
        "trans = str(resultdict)"
      ],
      "metadata": {
        "colab": {
          "base_uri": "https://localhost:8080/"
        },
        "id": "cgjDVW8-Uy64",
        "outputId": "a0c8ec3a-4cbd-430b-e5bc-580727089203"
      },
      "execution_count": 39,
      "outputs": [
        {
          "output_type": "stream",
          "name": "stdout",
          "text": [
            "{'en': 'hello.Please translate what I wrote in English, Japanese, Chinese, Spanish, and French.', 'ja': 'こんにちは。英語、日本、中国語、スペイン語、フランス語で書いたものを翻訳してください。', 'zh-cn': '你好。请翻译我用英语，日语，中文，西班牙语和法语撰写的内容。', 'es': 'Hola.Traduzca lo que escribí en inglés, japonés, chino, español y francés.', 'fr': \"salut.Veuillez traduire ce que j'ai écrit en anglais, japonais, chinois, espagnol et français.\"}\n"
          ]
        }
      ]
    },
    {
      "cell_type": "code",
      "execution_count": 40,
      "metadata": {
        "id": "tCdXDmEpP9Ub"
      },
      "outputs": [],
      "source": [
        "################################번역 결과 이메일 발송####################################\n",
        "\n",
        "\n",
        "import smtplib #7. smtp메일서버로 메일을 쉽게 보내주는 라이브러리 import\n",
        "from email.message import EmailMessage #8. 작성하고 싶은 메일 내용을 MIME타입으로 변환해주는 기능 import\n",
        "\n",
        "'''1. 서버 정보 생성'''\n",
        "SMTP_SERVER = \"smtp.gmail.com\" #9. 서버 정보\n",
        "SMTP_PORT =465 #10. 포트 정보\n",
        "\n",
        "\n",
        "'''2. MIME 형태의 메세지 통 만들고 번역결과를 메일 내용에 담기'''\n",
        "message = EmailMessage() #11. 메세지 통을 생성해주세요.\n",
        "message.set_content(trans) #12. 번역 결과를 메일 내용에 담아주세요.\n",
        "\n"
      ]
    },
    {
      "cell_type": "code",
      "source": [
        "'''3. 메일의 헤더 작성'''\n",
        "message[\"Subject\"]=\"황혜정_토요일팀_성공입니다~!\" #13. 제목은 \"이름_X요일팀_성공입니다~!\"로 설정해주세요.\n",
        "message[\"From\"]= \"hhj04021@likelion.org\" #14. 발신자는 본인의 likelion.org 계정을 입력해주세요.\n",
        "message[\"To\"]=fr #15. 수신자는 앞에서 변수를 찾아서 입력해주세요. (이메일 직접 입력X)\n",
        "\n",
        "\n",
        "'''4. SMTP서버에 연결하고 계정을 이용해 로그인'''\n",
        "smtp = smtplib.SMTP_SSL(SMTP_SERVER,SMTP_PORT) #16. 암호화 방식의 smtp함수를 사용해 SMTP서버에 연결해주세요.\n",
        "\n",
        "\n",
        "smtp.login('hhj04021@likelion.org', '39064638')\n",
        "\n",
        "\n",
        "'''5. 메세지 전송, 전송 후 연결 끊기'''\n",
        "smtp.send_message(message) #19. 메세지를 전송해주세요.\n",
        "smtp.quit() #20. 서버와의 연결을 끊어주세요.\n",
        "\n",
        "\n",
        "server.close()\n",
        "server.logout()"
      ],
      "metadata": {
        "colab": {
          "base_uri": "https://localhost:8080/"
        },
        "id": "38B3-z5sdOQD",
        "outputId": "588a481a-73d8-4920-a172-75b6776994c7"
      },
      "execution_count": 41,
      "outputs": [
        {
          "output_type": "execute_result",
          "data": {
            "text/plain": [
              "('BYE', [b'LOGOUT Requested'])"
            ]
          },
          "metadata": {},
          "execution_count": 41
        }
      ]
    }
  ],
  "metadata": {
    "colab": {
      "name": "220508멋사세션.ipynb",
      "provenance": [],
      "authorship_tag": "ABX9TyMbwjyMJoF4Jwe1RUCvCCs0"
    },
    "kernelspec": {
      "display_name": "Python 3",
      "name": "python3"
    },
    "language_info": {
      "name": "python"
    }
  },
  "nbformat": 4,
  "nbformat_minor": 0
}